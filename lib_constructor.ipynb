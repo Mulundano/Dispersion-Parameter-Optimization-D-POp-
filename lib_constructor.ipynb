{
 "cells": [
  {
   "cell_type": "code",
   "execution_count": 54,
   "id": "9e7106e0-c41a-4bef-83c3-f063b85597e9",
   "metadata": {},
   "outputs": [],
   "source": [
    "from functions import energy, top_change, struct_dict_maker\n",
    "import subprocess\n",
    "import os"
   ]
  },
  {
   "cell_type": "code",
   "execution_count": 16,
   "id": "8a910562-814a-4efa-b07c-3f00f28cc91e",
   "metadata": {},
   "outputs": [],
   "source": [
    "top = \"/home/riley/Dispersion-Parameter-Optimization-D-POp-/top\"\n",
    "gcp_dict = dict({\n",
    "    \"def2-tzvp\": \"gcp(dft/tz)\",\n",
    "    \"def2-svpd\": \"gcp(file)\",\n",
    "    \"def2-svp\" : \"gcp(dft/svp)\"\n",
    "})\n",
    "\n",
    "bottom = \"/home/riley/Dispersion-Parameter-Optimization-D-POp-/bb\"\n",
    "au =  627.5095"
   ]
  },
  {
   "cell_type": "code",
   "execution_count": 6,
   "id": "b8bf9dc6-ba83-43df-a5ab-3645f6f2c54f",
   "metadata": {},
   "outputs": [
    {
     "data": {
      "text/plain": [
       "['tpss', 'def2-svp', 'gcp(dft/svp)']"
      ]
     },
     "execution_count": 6,
     "metadata": {},
     "output_type": "execute_result"
    }
   ],
   "source": [
    "with open(top, \"r\") as t:\n",
    "    file = t.read().split()\n",
    "anchor = \"!\"\n",
    "#file\n",
    "lib_params = [file[file.index(anchor) + i] for i in [1, 2, 3]]\n",
    "lib_params"
   ]
  },
  {
   "cell_type": "code",
   "execution_count": 12,
   "id": "2b9dba35-6c86-4dec-b412-d71d2dba199d",
   "metadata": {},
   "outputs": [],
   "source": [
    "def get_lib_params(file):\n",
    "    lib_list = file.split()\n",
    "    return [lib_list[lib_list.index(anchor) + i] for i in [1, 2, 3]]\n",
    "\n"
   ]
  },
  {
   "cell_type": "code",
   "execution_count": 10,
   "id": "a64417f0-7bec-4466-8aa2-bdecdef93c89",
   "metadata": {},
   "outputs": [
    {
     "name": "stdout",
     "output_type": "stream",
     "text": [
      "This program constructs a library of interaction energies for only the DFT portion\n"
     ]
    },
    {
     "name": "stdin",
     "output_type": "stream",
     "text": [
      "What basis set do you want:  def2-svpd\n",
      "What functional do you want:  blyp\n"
     ]
    }
   ],
   "source": [
    "print(\"This program constructs a library of interaction energies for only the DFT portion\")\n",
    "basis = input(\"What basis set do you want: \").lower()\n",
    "functional = input(\"What functional do you want: \").lower()"
   ]
  },
  {
   "cell_type": "code",
   "execution_count": 14,
   "id": "859cf780-733b-48ef-840e-e1b1ee8d51a7",
   "metadata": {},
   "outputs": [
    {
     "data": {
      "text/plain": [
       "'! blyp def2-svpd gcp(file)\\n%pal \\nNPROCS 6 \\nend\\n%maxcore 2000\\n%method\\n  D3A1 0.3065\\n  D3S8 0.9147\\n  D3A2 5.0570\\nend\\n* xyz 0 1\\n'"
      ]
     },
     "execution_count": 14,
     "metadata": {},
     "output_type": "execute_result"
    }
   ],
   "source": [
    "with open(top, \"r\") as t:\n",
    "    file = t.read()\n",
    "\n",
    "lib_params = get_lib_params(file)\n",
    "change_file = (file.replace(lib_params[0], functional)\n",
    "                    .replace(lib_params[1], basis)\n",
    "                    .replace(lib_params[2], gcp_dict[basis]))\n",
    "\n",
    "change_file"
   ]
  },
  {
   "cell_type": "code",
   "execution_count": 24,
   "id": "865838dd-86d5-4f43-8d60-263b4b118a15",
   "metadata": {},
   "outputs": [],
   "source": [
    "def lib_constructor(basis_set, functional, struct_dict, name):\n",
    "    with open(top, \"r\") as t:\n",
    "        file = t.read()\n",
    "\n",
    "    lib_params = get_lib_params(file)\n",
    "    change_file = (file.replace(lib_params[0], functional)\n",
    "                    .replace(lib_params[1], basis)\n",
    "                    .replace(lib_params[2], gcp_dict[basis]))\n",
    "\n",
    "    top_change(top, change_file)\n",
    "    \n",
    "    for struct in struct_dict.keys():\n",
    "\n",
    "        energies = []\n",
    "\n",
    "        for path in struct_dict[struct]:\n",
    "            if \"a_\" in path.split(\"/\")[-1]:\n",
    "                change_data = change_data.replace(\"xyz 0\", \"xyz -1\")\n",
    "            elif \"c_\" in path.split(\"/\")[-1]:\n",
    "                change_data = change_data.replace(\"xyz 0\", \"xyz 1\")\n",
    "\n",
    "            \n",
    "            subprocess.run(f\"cat {top} {path} {bottom} > input\", shell=True)\n",
    "            energies.append(float(subprocess.check_output(f\"/home/riley/bin/orca_6_0_0_shared_openmpi416/orca input| grep 'FINAL'| awk '{{print $5}}' ORS=' '\",\n",
    "                                                              shell=True,\n",
    "                                                              executable=\"/bin/bash\")\n",
    "                                                              .decode()))\n",
    "\n",
    "    \n",
    "            subprocess.run(\"rm input*\", shell=True)\n",
    "\n",
    "        with open(name, 'a') as lib:\n",
    "            lib.write(f\"{struct} {au*(energies[0] - (energies[1]+energies[2]))}\\n\")\n",
    "            \n",
    "    top_change(top, file)"
   ]
  },
  {
   "cell_type": "code",
   "execution_count": 21,
   "id": "21b6f6de-030a-42b5-8973-1edc971020d0",
   "metadata": {},
   "outputs": [
    {
     "name": "stdin",
     "output_type": "stream",
     "text": [
      "What name do you want for the library:  abc\n"
     ]
    }
   ],
   "source": [
    "name = input(\"What name do you want for the library: \").lower()"
   ]
  },
  {
   "cell_type": "code",
   "execution_count": 22,
   "id": "23bc0ffc-acb3-48b6-af9c-7580b0788be7",
   "metadata": {},
   "outputs": [
    {
     "data": {
      "text/plain": [
       "{'x01': ['all-s66/x01dd.xyz', 'all-s66/x01m1.xyz', 'all-s66/x01m2.xyz'],\n",
       " 'x02': ['all-s66/x02dd.xyz', 'all-s66/x02m1.xyz', 'all-s66/x02m2.xyz'],\n",
       " 'x03': ['all-s66/x03dd.xyz', 'all-s66/x03m1.xyz', 'all-s66/x03m2.xyz'],\n",
       " 'x04': ['all-s66/x04dd.xyz', 'all-s66/x04m1.xyz', 'all-s66/x04m2.xyz'],\n",
       " 'x05': ['all-s66/x05dd.xyz', 'all-s66/x05m1.xyz', 'all-s66/x05m2.xyz'],\n",
       " 'x06': ['all-s66/x06dd.xyz', 'all-s66/x06m1.xyz', 'all-s66/x06m2.xyz'],\n",
       " 'x07': ['all-s66/x07dd.xyz', 'all-s66/x07m1.xyz', 'all-s66/x07m2.xyz'],\n",
       " 'x08': ['all-s66/x08dd.xyz', 'all-s66/x08m1.xyz', 'all-s66/x08m2.xyz'],\n",
       " 'x09': ['all-s66/x09dd.xyz', 'all-s66/x09m1.xyz', 'all-s66/x09m2.xyz'],\n",
       " 'x10': ['all-s66/x10dd.xyz', 'all-s66/x10m1.xyz', 'all-s66/x10m2.xyz'],\n",
       " 'x11': ['all-s66/x11dd.xyz', 'all-s66/x11m1.xyz', 'all-s66/x11m2.xyz'],\n",
       " 'x12': ['all-s66/x12dd.xyz', 'all-s66/x12m1.xyz', 'all-s66/x12m2.xyz'],\n",
       " 'x13': ['all-s66/x13dd.xyz', 'all-s66/x13m1.xyz', 'all-s66/x13m2.xyz'],\n",
       " 'x14': ['all-s66/x14dd.xyz', 'all-s66/x14m1.xyz', 'all-s66/x14m2.xyz'],\n",
       " 'x15': ['all-s66/x15dd.xyz', 'all-s66/x15m1.xyz', 'all-s66/x15m2.xyz'],\n",
       " 'x16': ['all-s66/x16dd.xyz', 'all-s66/x16m1.xyz', 'all-s66/x16m2.xyz'],\n",
       " 'x17': ['all-s66/x17dd.xyz', 'all-s66/x17m1.xyz', 'all-s66/x17m2.xyz'],\n",
       " 'x18': ['all-s66/x18dd.xyz', 'all-s66/x18m1.xyz', 'all-s66/x18m2.xyz'],\n",
       " 'x19': ['all-s66/x19dd.xyz', 'all-s66/x19m1.xyz', 'all-s66/x19m2.xyz'],\n",
       " 'x20': ['all-s66/x20dd.xyz', 'all-s66/x20m1.xyz', 'all-s66/x20m2.xyz'],\n",
       " 'x21': ['all-s66/x21dd.xyz', 'all-s66/x21m1.xyz', 'all-s66/x21m2.xyz'],\n",
       " 'x22': ['all-s66/x22dd.xyz', 'all-s66/x22m1.xyz', 'all-s66/x22m2.xyz'],\n",
       " 'x23': ['all-s66/x23dd.xyz', 'all-s66/x23m1.xyz', 'all-s66/x23m2.xyz'],\n",
       " 'x24': ['all-s66/x24dd.xyz', 'all-s66/x24m1.xyz', 'all-s66/x24m2.xyz'],\n",
       " 'x25': ['all-s66/x25dd.xyz', 'all-s66/x25m1.xyz', 'all-s66/x25m2.xyz'],\n",
       " 'x26': ['all-s66/x26dd.xyz', 'all-s66/x26m1.xyz', 'all-s66/x26m2.xyz'],\n",
       " 'x27': ['all-s66/x27dd.xyz', 'all-s66/x27m1.xyz', 'all-s66/x27m2.xyz'],\n",
       " 'x28': ['all-s66/x28dd.xyz', 'all-s66/x28m1.xyz', 'all-s66/x28m2.xyz'],\n",
       " 'x29': ['all-s66/x29dd.xyz', 'all-s66/x29m1.xyz', 'all-s66/x29m2.xyz'],\n",
       " 'x30': ['all-s66/x30dd.xyz', 'all-s66/x30m1.xyz', 'all-s66/x30m2.xyz'],\n",
       " 'x31': ['all-s66/x31dd.xyz', 'all-s66/x31m1.xyz', 'all-s66/x31m2.xyz'],\n",
       " 'x32': ['all-s66/x32dd.xyz', 'all-s66/x32m1.xyz', 'all-s66/x32m2.xyz'],\n",
       " 'x33': ['all-s66/x33dd.xyz', 'all-s66/x33m1.xyz', 'all-s66/x33m2.xyz'],\n",
       " 'x34': ['all-s66/x34dd.xyz', 'all-s66/x34m1.xyz', 'all-s66/x34m2.xyz'],\n",
       " 'x35': ['all-s66/x35dd.xyz', 'all-s66/x35m1.xyz', 'all-s66/x35m2.xyz'],\n",
       " 'x36': ['all-s66/x36dd.xyz', 'all-s66/x36m1.xyz', 'all-s66/x36m2.xyz'],\n",
       " 'x37': ['all-s66/x37dd.xyz', 'all-s66/x37m1.xyz', 'all-s66/x37m2.xyz'],\n",
       " 'x38': ['all-s66/x38dd.xyz', 'all-s66/x38m1.xyz', 'all-s66/x38m2.xyz'],\n",
       " 'x39': ['all-s66/x39dd.xyz', 'all-s66/x39m1.xyz', 'all-s66/x39m2.xyz'],\n",
       " 'x40': ['all-s66/x40dd.xyz', 'all-s66/x40m1.xyz', 'all-s66/x40m2.xyz'],\n",
       " 'x41': ['all-s66/x41dd.xyz', 'all-s66/x41m1.xyz', 'all-s66/x41m2.xyz'],\n",
       " 'x42': ['all-s66/x42dd.xyz', 'all-s66/x42m1.xyz', 'all-s66/x42m2.xyz'],\n",
       " 'x43': ['all-s66/x43dd.xyz', 'all-s66/x43m1.xyz', 'all-s66/x43m2.xyz'],\n",
       " 'x44': ['all-s66/x44dd.xyz', 'all-s66/x44m1.xyz', 'all-s66/x44m2.xyz'],\n",
       " 'x45': ['all-s66/x45dd.xyz', 'all-s66/x45m1.xyz', 'all-s66/x45m2.xyz'],\n",
       " 'x46': ['all-s66/x46dd.xyz', 'all-s66/x46m1.xyz', 'all-s66/x46m2.xyz'],\n",
       " 'x47': ['all-s66/x47dd.xyz', 'all-s66/x47m1.xyz', 'all-s66/x47m2.xyz'],\n",
       " 'x48': ['all-s66/x48dd.xyz', 'all-s66/x48m1.xyz', 'all-s66/x48m2.xyz'],\n",
       " 'x49': ['all-s66/x49dd.xyz', 'all-s66/x49m1.xyz', 'all-s66/x49m2.xyz'],\n",
       " 'x50': ['all-s66/x50dd.xyz', 'all-s66/x50m1.xyz', 'all-s66/x50m2.xyz'],\n",
       " 'x51': ['all-s66/x51dd.xyz', 'all-s66/x51m1.xyz', 'all-s66/x51m2.xyz'],\n",
       " 'x52': ['all-s66/x52dd.xyz', 'all-s66/x52m1.xyz', 'all-s66/x52m2.xyz'],\n",
       " 'x53': ['all-s66/x53dd.xyz', 'all-s66/x53m1.xyz', 'all-s66/x53m2.xyz'],\n",
       " 'x54': ['all-s66/x54dd.xyz', 'all-s66/x54m1.xyz', 'all-s66/x54m2.xyz'],\n",
       " 'x55': ['all-s66/x55dd.xyz', 'all-s66/x55m1.xyz', 'all-s66/x55m2.xyz'],\n",
       " 'x56': ['all-s66/x56dd.xyz', 'all-s66/x56m1.xyz', 'all-s66/x56m2.xyz'],\n",
       " 'x57': ['all-s66/x57dd.xyz', 'all-s66/x57m1.xyz', 'all-s66/x57m2.xyz'],\n",
       " 'x58': ['all-s66/x58dd.xyz', 'all-s66/x58m1.xyz', 'all-s66/x58m2.xyz'],\n",
       " 'x59': ['all-s66/x59dd.xyz', 'all-s66/x59m1.xyz', 'all-s66/x59m2.xyz'],\n",
       " 'x60': ['all-s66/x60dd.xyz', 'all-s66/x60m1.xyz', 'all-s66/x60m2.xyz'],\n",
       " 'x61': ['all-s66/x61dd.xyz', 'all-s66/x61m1.xyz', 'all-s66/x61m2.xyz'],\n",
       " 'x62': ['all-s66/x62dd.xyz', 'all-s66/x62m1.xyz', 'all-s66/x62m2.xyz'],\n",
       " 'x63': ['all-s66/x63dd.xyz', 'all-s66/x63m1.xyz', 'all-s66/x63m2.xyz'],\n",
       " 'x64': ['all-s66/x64dd.xyz', 'all-s66/x64m1.xyz', 'all-s66/x64m2.xyz'],\n",
       " 'x65': ['all-s66/x65dd.xyz', 'all-s66/x65m1.xyz', 'all-s66/x65m2.xyz'],\n",
       " 'x66': ['all-s66/x66dd.xyz', 'all-s66/x66m1.xyz', 'all-s66/x66m2.xyz']}"
      ]
     },
     "execution_count": 22,
     "metadata": {},
     "output_type": "execute_result"
    }
   ],
   "source": [
    "struct_dict = struct_dict_maker(\"all-s66\")\n",
    "struct_dict"
   ]
  },
  {
   "cell_type": "code",
   "execution_count": 27,
   "id": "ae5dfb15-0d69-4164-968a-ca801dfaf4fd",
   "metadata": {},
   "outputs": [],
   "source": [
    "lib_constructor(basis, functional, struct_dict, name) "
   ]
  },
  {
   "cell_type": "code",
   "execution_count": 33,
   "id": "4c6a6e44-db81-4a8f-a84c-c3ca2a6125ed",
   "metadata": {},
   "outputs": [],
   "source": [
    "with open(\"a\", \"a\") as a:\n",
    "    a.write(f\"{str([[1,2,3],[4,5,6]])}\\n\")"
   ]
  },
  {
   "cell_type": "code",
   "execution_count": 34,
   "id": "a04dd83f-2ddc-4a86-a6d0-27c4c44061b3",
   "metadata": {},
   "outputs": [],
   "source": [
    "with open(\"a\", \"r\") as a:\n",
    "    fil = a.read()"
   ]
  },
  {
   "cell_type": "code",
   "execution_count": 35,
   "id": "2734cb27-255d-4844-b5a4-b2c4efe289e7",
   "metadata": {},
   "outputs": [
    {
     "data": {
      "text/plain": [
       "'simplex\\n[1, 2, 3]\\n[[1, 2, 3], [4, 5, 6]]\\n[[2, 2, 3], [4, 5, 6]]\\n'"
      ]
     },
     "execution_count": 35,
     "metadata": {},
     "output_type": "execute_result"
    }
   ],
   "source": [
    "fil"
   ]
  },
  {
   "cell_type": "code",
   "execution_count": 44,
   "id": "e0c140c1-80b8-44ec-8f62-e674a1ef6789",
   "metadata": {},
   "outputs": [],
   "source": [
    "ab = [x for x in fil.split('\\n') if x]\n"
   ]
  },
  {
   "cell_type": "code",
   "execution_count": 45,
   "id": "44ce211e-15e1-4f71-a5d4-6a6b40d389e3",
   "metadata": {},
   "outputs": [
    {
     "data": {
      "text/plain": [
       "['simplex', '[1, 2, 3]', '[[1, 2, 3], [4, 5, 6]]', '[[2, 2, 3], [4, 5, 6]]']"
      ]
     },
     "execution_count": 45,
     "metadata": {},
     "output_type": "execute_result"
    }
   ],
   "source": [
    "ab"
   ]
  },
  {
   "cell_type": "code",
   "execution_count": 46,
   "id": "0a7cafc2-edad-4e61-bcc9-fb2e3a7a2e16",
   "metadata": {},
   "outputs": [],
   "source": [
    "import ast"
   ]
  },
  {
   "cell_type": "code",
   "execution_count": 47,
   "id": "04585b51-cb9c-485d-b220-f28cddcb68fd",
   "metadata": {},
   "outputs": [
    {
     "data": {
      "text/plain": [
       "[[2, 2, 3], [4, 5, 6]]"
      ]
     },
     "execution_count": 47,
     "metadata": {},
     "output_type": "execute_result"
    }
   ],
   "source": [
    "abc = ast.literal_eval(ab[-1])\n",
    "abc"
   ]
  },
  {
   "cell_type": "code",
   "execution_count": 52,
   "id": "2267b57e-1dfb-41b9-8153-580f02d648d8",
   "metadata": {},
   "outputs": [
    {
     "data": {
      "text/plain": [
       "5"
      ]
     },
     "execution_count": 52,
     "metadata": {},
     "output_type": "execute_result"
    }
   ],
   "source": [
    "abc[0][1] + abc[0][2]"
   ]
  },
  {
   "cell_type": "code",
   "execution_count": 50,
   "id": "9656b3a5-966c-4f19-bac4-878e6e5a1288",
   "metadata": {},
   "outputs": [
    {
     "name": "stdout",
     "output_type": "stream",
     "text": [
      "yes\n"
     ]
    }
   ],
   "source": [
    "if os.path.isfile(\"checkpoint\"):\n",
    "    print(\"yes\")"
   ]
  },
  {
   "cell_type": "code",
   "execution_count": 55,
   "id": "f7274ad0-55c2-4fe1-aa4d-01f9da85e6e9",
   "metadata": {},
   "outputs": [],
   "source": [
    "def value_dict_maker(path):\n",
    "    with open(path, \"r\") as f:\n",
    "        value_list = [ x.split() for x in f.read().split(\"\\n\") if x]\n",
    "    if \"ref\" in path.split(\"/\")[-1]:\n",
    "        return {x[0]: float(x[1]) for x in value_list}, {x[0]: float(x[2]) for x in value_list}\n",
    "    return {x[0]: float(x[1]) for x in value_list}"
   ]
  },
  {
   "cell_type": "code",
   "execution_count": 63,
   "id": "d74302f9-8074-4601-9116-ac2e0c7d8e4e",
   "metadata": {},
   "outputs": [],
   "source": [
    "a = value_dict_maker(\"s66_ref_energies_1\")"
   ]
  },
  {
   "cell_type": "code",
   "execution_count": 67,
   "id": "a842f9b6-974e-4630-9877-c3277b8aca39",
   "metadata": {},
   "outputs": [
    {
     "data": {
      "text/plain": [
       "2"
      ]
     },
     "execution_count": 67,
     "metadata": {},
     "output_type": "execute_result"
    }
   ],
   "source": [
    "len(a)"
   ]
  },
  {
   "cell_type": "code",
   "execution_count": 61,
   "id": "c59bed0a-dbd5-471c-8919-b654a0ebd463",
   "metadata": {},
   "outputs": [
    {
     "data": {
      "text/plain": [
       "{}"
      ]
     },
     "execution_count": 61,
     "metadata": {},
     "output_type": "execute_result"
    }
   ],
   "source": [
    "b"
   ]
  },
  {
   "cell_type": "code",
   "execution_count": null,
   "id": "5d29a2ec-cd33-46f5-a196-62b2a91e06e5",
   "metadata": {},
   "outputs": [],
   "source": []
  }
 ],
 "metadata": {
  "kernelspec": {
   "display_name": "Python 3 (ipykernel)",
   "language": "python",
   "name": "python3"
  },
  "language_info": {
   "codemirror_mode": {
    "name": "ipython",
    "version": 3
   },
   "file_extension": ".py",
   "mimetype": "text/x-python",
   "name": "python",
   "nbconvert_exporter": "python",
   "pygments_lexer": "ipython3",
   "version": "3.12.8"
  }
 },
 "nbformat": 4,
 "nbformat_minor": 5
}
