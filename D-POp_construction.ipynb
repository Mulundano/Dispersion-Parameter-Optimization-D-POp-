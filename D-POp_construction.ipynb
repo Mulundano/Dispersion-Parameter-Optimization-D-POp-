{
 "cells": [
  {
   "cell_type": "code",
   "execution_count": 86,
   "id": "dcbcf5d2-6b82-4576-b489-a07afbb3beec",
   "metadata": {},
   "outputs": [],
   "source": [
    "import os\n",
    "import subprocess\n",
    "import pickle"
   ]
  },
  {
   "cell_type": "code",
   "execution_count": 87,
   "id": "74c1fb10-4dc7-499b-bfd8-85201d32b400",
   "metadata": {},
   "outputs": [],
   "source": [
    "# conversion factor for 1 hatree to kcals/mol\n",
    "au = 627.5095 \n",
    "top = \"tt\"\n",
    "file = \"a_\"\n",
    "vars = [ \"D3A1\", \"D3A2\", \"D3S8\", \"!\"]\n",
    "change_params = [0.2885845358427619,4.505426185357342,2.9935113319271824]\n",
    "struct_path = \"workflow_test\"\n",
    "functional = \"blyp\"\n",
    "basis = \"def2-svpd\"\n",
    "# Dictionary of interaction energies \n",
    "inter_energies = dict({ \n",
    "    'x01': -4.982,\n",
    "    'x02': -5.666,\n",
    "    'x03': -6.986,\n",
    "    'x04': -8.183,\n",
    "    'x05': -5.822,\n",
    "    'x06': -7.617,\n",
    "    'x07': -8.307,\n",
    "    'x08': -5.064,\n",
    "    'x09': -3.087,\n",
    "    'x10': -4.184,\n",
    "    'x11': -5.436,\n",
    "    'x12': -7.359,\n",
    "    'x13': -6.251,\n",
    "    'x14': -7.516,\n",
    "    'x15': -8.689,\n",
    "    'x16': -5.180,\n",
    "    'x17': -17.407,\n",
    "    'x18': -6.927,\n",
    "    'x19': -7.467,\n",
    "    'x20': -19.7361,\n",
    "    'x21': -16.474,\n",
    "    'x22': -19.736,\n",
    "    'x23': -19.420,\n",
    "    'x24': -2.685,\n",
    "    'x25': -3.751,\n",
    "    'x26': -9.672,\n",
    "    'x27': -3.300,\n",
    "    'x28': -5.517,\n",
    "    'x29': -6.629,\n",
    "    'x30': -1.358,\n",
    "    'x31': -3.291,\n",
    "    'x32': -3.651,\n",
    "    'x33': -1.779,\n",
    "    'x34': -3.741,\n",
    "    'x35': -2.582,\n",
    "    'x36': -1.745,\n",
    "    'x37': -2.376,\n",
    "    'x38': -2.967,\n",
    "    'x39': -3.488,\n",
    "    'x40': -2.824,\n",
    "    'x41': -4.761,\n",
    "    'x42': -4.052,\n",
    "    'x43': -3.652,\n",
    "    'x44': -1.973,\n",
    "    'x45': -1.696,\n",
    "    'x46': -4.215,\n",
    "    'x47': -2.801,\n",
    "    'x48': -3.472,\n",
    "    'x49': -3.260,\n",
    "    'x50': -2.828,\n",
    "    'x51': -1.519,\n",
    "    'x52': -4.691,\n",
    "    'x53': -4.376,\n",
    "    'x54': -3.267,\n",
    "    'x55': -4.139,\n",
    "    'x56': -3.174,\n",
    "    'x57': -5.222,\n",
    "    'x58': -4.189,\n",
    "    'x59': -2.905,\n",
    "    'x60': -4.917,\n",
    "    'x61': -2.876,\n",
    "    'x62': -3.491,\n",
    "    'x63': -3.709,\n",
    "    'x64': -2.967,\n",
    "    'x65': -4.064,\n",
    "    'x66': -3.930\n",
    "})\n"
   ]
  },
  {
   "cell_type": "code",
   "execution_count": 88,
   "id": "5b0c66b6-01a9-4fec-b6c2-88620526c35b",
   "metadata": {},
   "outputs": [],
   "source": [
    "# function to return list of parameters to swap out\n",
    "def get_params(file):\n",
    "    file_list = file.split()\n",
    "    return [file_list[file_list.index(y) + 1] for y in vars]\n",
    "\n",
    "# function to create dictionary to hold structures\n",
    "def dict_maker(path):\n",
    "    struct_dict = dict()\n",
    "    file_list = [x for x in sorted(os.listdir(path)) if \".xyz\" in x]\n",
    "    \n",
    "    for file in file_list:\n",
    "        key = (file.replace(\".xyz\", \"\")\n",
    "               .replace(\"dd\", \"\")\n",
    "               .replace(\"m1\",\"\")\n",
    "               .replace(\"m2\", \"\")\n",
    "               .replace(\"a_\",\"\")\n",
    "               .replace(\"c_\", \"\"))\n",
    "        if key in struct_dict.keys():\n",
    "            struct_dict[key].append(f\"{path}/{file}\")\n",
    "        else:\n",
    "            struct_dict.update({key:[f\"{path}/{file}\"]})\n",
    "            \n",
    "    return struct_dict\n",
    "\n",
    "# function to change top orca input file\n",
    "def top_change(top_file, change_data):\n",
    "    with open(top_file, \"w\") as t:\n",
    "        t.write(change_data)"
   ]
  },
  {
   "cell_type": "code",
   "execution_count": 90,
   "id": "3ab2095c-5ece-4a98-8d08-d39dc3105a9c",
   "metadata": {},
   "outputs": [
    {
     "data": {
      "text/plain": [
       "['0.2885845358427619', '4.505426185357342', '2.9935113319271824', 'blyp']"
      ]
     },
     "execution_count": 90,
     "metadata": {},
     "output_type": "execute_result"
    }
   ],
   "source": [
    "with open(\"/home/riley/Dispersion-Parameter-Optimization-D-POp-/tt\", \"r\") as t:\n",
    "    data = t.read()\n",
    "\n",
    "params = get_params(data)\n",
    "params"
   ]
  },
  {
   "cell_type": "code",
   "execution_count": 4,
   "id": "07bfc056-6747-4613-adec-14d45e17a289",
   "metadata": {},
   "outputs": [
    {
     "data": {
      "text/plain": [
       "{'x05': ['workflow_test/x05dd.xyz',\n",
       "  'workflow_test/x05m1.xyz',\n",
       "  'workflow_test/x05m2.xyz']}"
      ]
     },
     "execution_count": 4,
     "metadata": {},
     "output_type": "execute_result"
    }
   ],
   "source": [
    "struct_dict = dict_maker(struct_path)\n",
    "struct_dict"
   ]
  },
  {
   "cell_type": "code",
   "execution_count": 30,
   "id": "27e15d5c-0164-4427-849a-2cc0b2494de0",
   "metadata": {},
   "outputs": [
    {
     "data": {
      "text/plain": [
       "{'x01': -4.042673689348837,\n",
       " 'x02': -4.289575976206804,\n",
       " 'x03': -6.502826826439239,\n",
       " 'x04': -6.096868564547438,\n",
       " 'x05': -4.055173740101212,\n",
       " 'x06': -5.989731530790744,\n",
       " 'x07': -5.426960365505868,\n",
       " 'x08': -3.826956461664057,\n",
       " 'x09': -1.0961609276650222,\n",
       " 'x10': -1.8010170315040956,\n",
       " 'x11': -1.420813022692698,\n",
       " 'x12': -6.298344312311194,\n",
       " 'x13': -3.257516353834641,\n",
       " 'x14': -4.5623108995532276,\n",
       " 'x15': -4.164993100909815,\n",
       " 'x16': -3.466735148378361,\n",
       " 'x17': -13.456284668082485,\n",
       " 'x18': -6.313493538117598,\n",
       " 'x19': -6.17062058441332,\n",
       " 'x20': -16.221801730316297,\n",
       " 'x21': -13.111983784761787,\n",
       " 'x22': -16.15851160716406,\n",
       " 'x23': -15.669346823117252,\n",
       " 'x24': 3.403779424434314,\n",
       " 'x25': 2.883857998254184,\n",
       " 'x26': 2.2347470761203017,\n",
       " 'x27': 3.1130435627453674,\n",
       " 'x28': 3.7963890318154427,\n",
       " 'x29': 2.5922668159545053,\n",
       " 'x30': 2.296002883677245,\n",
       " 'x31': 1.7130299937803475,\n",
       " 'x32': 0.6709608286750932,\n",
       " 'x33': 2.0422639222099193,\n",
       " 'x34': 3.1513625822518665,\n",
       " 'x35': 1.7492737031919838,\n",
       " 'x36': 0.9884159959432546,\n",
       " 'x37': 1.7742290061572406,\n",
       " 'x38': 2.417161599656109,\n",
       " 'x39': 2.6143936951686597,\n",
       " 'x40': 1.9121405967689127,\n",
       " 'x41': 4.513048188403456,\n",
       " 'x42': 4.018435628524002,\n",
       " 'x43': 2.9197534768563016,\n",
       " 'x44': 1.5979469666291592,\n",
       " 'x45': 1.4965161954761312,\n",
       " 'x46': 3.1526911641527837,\n",
       " 'x47': 1.2416411017644822,\n",
       " 'x48': 0.8717242553020151,\n",
       " 'x49': 0.9551200814309131,\n",
       " 'x50': -0.5438929354559952,\n",
       " 'x51': -1.1129383906223032,\n",
       " 'x52': -0.3364525109590732,\n",
       " 'x53': -0.4563320324943983,\n",
       " 'x54': -0.5037879762035306,\n",
       " 'x55': 0.15190711072276966,\n",
       " 'x56': 1.0080785574104925,\n",
       " 'x57': 0.7170832186859474,\n",
       " 'x58': -2.0530051774414364,\n",
       " 'x59': -2.451965597058833,\n",
       " 'x60': -2.6426402264706197,\n",
       " 'x61': 2.798863583432466,\n",
       " 'x62': 2.4546474251617836,\n",
       " 'x63': 1.8633646177821117,\n",
       " 'x64': 0.9142197909770442,\n",
       " 'x65': -3.710413747584676,\n",
       " 'x66': -0.08368873884417817}"
      ]
     },
     "execution_count": 30,
     "metadata": {},
     "output_type": "execute_result"
    }
   ],
   "source": [
    "with open(f\"base_calculations_{functional}_{basis}.pkl\", 'rb') as f:\n",
    "    base_calculations = pickle.load(f)\n",
    "base_calculations"
   ]
  },
  {
   "cell_type": "code",
   "execution_count": 27,
   "id": "93b596e6-b6b4-4540-9aba-278483d3aa36",
   "metadata": {},
   "outputs": [],
   "source": [
    "def energy(change_params, base_calculations, struct_dict, functional):\n",
    "    \n",
    "    with open(f\"{top}\", \"r\") as f:\n",
    "        data = f.read()\n",
    "\n",
    "    change = [str(y) for y in change_params]\n",
    "    change.append(functional)\n",
    "\n",
    "    params = get_params(data)\n",
    "    change_data = (data.replace(params[0], change[0])\n",
    "                    .replace(params[1], change[1])\n",
    "                    .replace(params[2], change[2])\n",
    "                    .replace(params[3], change[3]))\n",
    "\n",
    "    energy_list = []\n",
    "    strd_values = []\n",
    "\n",
    "    for struct in struct_dict.keys():\n",
    "        energies = []\n",
    "        strd_values.append(inter_energies[struct])\n",
    "\n",
    "        for item in struct_dict[struct]:\n",
    "\n",
    "            if \"a_\" in item:\n",
    "                change_data = data.replace(\"xyz 0\", \"xyz -1\")\n",
    "            elif \"c_\" in item:\n",
    "                change_data = data.replace(\"xyz 0\", \"xyz 1\")\n",
    "\n",
    "            top_change(top, change_data)\n",
    "            subprocess.run(f\"cat {top} {item} bb > input\", shell=True)\n",
    "            energies.append(float(subprocess.check_output(f\"/home/riley/bin/orca_6_0_0_shared_openmpi416/orca input| grep 'Dispersion'| awk '{{print $3}}' ORS=' '\",\n",
    "                                                              shell=True,\n",
    "                                                              executable=\"/bin/bash\")\n",
    "                                                              .decode()))\n",
    "            subprocess.run(\"rm input*\", shell=True)\n",
    "            top_change(top, data)\n",
    "            \n",
    "        energy_list.append(base_calculations[struct] + au*(energies[0] - (energies[1]+energies[2])))\n",
    "\n",
    "    return strd_values, energy_list"
   ]
  },
  {
   "cell_type": "code",
   "execution_count": 22,
   "id": "8106c7bd-7d40-4464-b962-83505d1e2c17",
   "metadata": {},
   "outputs": [
    {
     "data": {
      "text/plain": [
       "['1.5340745924210992', '2.2986916469230967', '4.8958037257994045', 'pbe']"
      ]
     },
     "execution_count": 22,
     "metadata": {},
     "output_type": "execute_result"
    }
   ],
   "source": [
    "with open(f\"{top}\", \"r\") as f:\n",
    "        data = f.read()\n",
    "\n",
    "change = [str(y) for y in change_params]\n",
    "change.append(functional)\n",
    "\n",
    "params = get_params(data)\n",
    "change_data = (data.replace(params[0], change[0])\n",
    "                .replace(params[1], change[1])\n",
    "                .replace(params[2], change[2])\n",
    "                .replace(params[3], change[3]))\n",
    "\n",
    "energy_list = []\n",
    "strd_values = []\n",
    "\n",
    "for struct in struct_dict.keys():\n",
    "    energies = []\n",
    "    strd_values.append(inter_energies[struct])\n",
    "    \n",
    "    for item in struct_dict[struct]:\n",
    "\n",
    "        if \"a_\" in item:\n",
    "            change_data = data.replace(\"xyz 0\", \"xyz -1\")\n",
    "        elif \"c_\" in item:\n",
    "            change_data = data.replace(\"xyz 0\", \"xyz 1\")\n",
    "        \n",
    "        top_change(top, change_data)\n",
    "        subprocess.run(f\"cat {top} {item} bb > input\", shell=True)\n",
    "        energies.append(float(subprocess.check_output(f\"/home/riley/bin/orca_6_0_0_shared_openmpi416/orca input| grep 'Dispersion'| awk '{{print $3}}' ORS=' '\",\n",
    "                                                          shell=True,\n",
    "                                                          executable=\"/bin/bash\")\n",
    "                                                          .decode()))\n",
    "        subprocess.run(\"rm input*\", shell=True)\n",
    "        top_change(top, data)\n",
    "    energy_list.append(base_calculations[struct] + au*(energies[0] - (energies[1]+energies[2])))\n",
    "        \n",
    "params"
   ]
  },
  {
   "cell_type": "code",
   "execution_count": 34,
   "id": "6583ef73-675b-48c6-972b-026b41d8e958",
   "metadata": {},
   "outputs": [
    {
     "data": {
      "text/plain": [
       "[-5.822]"
      ]
     },
     "execution_count": 34,
     "metadata": {},
     "output_type": "execute_result"
    }
   ],
   "source": [
    "strd, en_list = energy(change_params, base_calculations, struct_dict, functional)\n",
    "strd"
   ]
  },
  {
   "cell_type": "code",
   "execution_count": 35,
   "id": "60624fa6-5f8d-4758-af5a-f73245512846",
   "metadata": {},
   "outputs": [
    {
     "data": {
      "text/plain": [
       "[-5.7014104003287125]"
      ]
     },
     "execution_count": 35,
     "metadata": {},
     "output_type": "execute_result"
    }
   ],
   "source": [
    "en_list"
   ]
  },
  {
   "cell_type": "code",
   "execution_count": 36,
   "id": "7cae397e-1887-473e-b7b6-44bb4ab51086",
   "metadata": {},
   "outputs": [
    {
     "data": {
      "text/plain": [
       "['base_calculations_blyp_def2-svp.pkl',\n",
       " 'base_calculations_blyp_def2-svpd.pkl',\n",
       " 'base_calculations_blyp_def2-tzvp.pkl',\n",
       " 'base_calculations_pbe_def2-svp.pkl',\n",
       " 'base_calculations_pbe_def2-svpd.pkl',\n",
       " 'base_calculations_pbe_def2-tzvp.pkl',\n",
       " 'base_calculations_tpss_def2-svp.pkl',\n",
       " 'base_calculations_tpss_def2-svpd.pkl',\n",
       " 'base_calculations_tpss_def2-tzvp.pkl']"
      ]
     },
     "execution_count": 36,
     "metadata": {},
     "output_type": "execute_result"
    }
   ],
   "source": [
    "bases = [x for x in sorted(os.listdir(os.getcwd())) if \"base_calculations\" in x]\n",
    "bases"
   ]
  },
  {
   "cell_type": "code",
   "execution_count": 41,
   "id": "6e4e431c-308e-4a9b-a428-f598f4badc7a",
   "metadata": {},
   "outputs": [],
   "source": [
    "for key in inter_energies.keys():\n",
    "    with open(\"s66_ref_energies\", 'a') as bb:\n",
    "        bb.write(f\"{key} {inter_energies[key]}\\n\")"
   ]
  },
  {
   "cell_type": "code",
   "execution_count": 47,
   "id": "b2dc3e51-d400-4b8e-b1eb-ab7a89b51467",
   "metadata": {},
   "outputs": [],
   "source": [
    "import re"
   ]
  },
  {
   "cell_type": "code",
   "execution_count": 84,
   "id": "c0a0b909-1c5e-4b50-bec7-63dada0734dd",
   "metadata": {},
   "outputs": [],
   "source": [
    "def value_dict_maker(path):\n",
    "    with open(path, \"r\") as f:\n",
    "        value_list = [ x.split() for x in f.read().split(\"\\n\") if x]\n",
    "    return {x[0]: float(x[1]) for x in value_list}"
   ]
  },
  {
   "cell_type": "code",
   "execution_count": null,
   "id": "f16e20b1-480f-438d-9229-9369cd7ebdd4",
   "metadata": {},
   "outputs": [],
   "source": []
  },
  {
   "cell_type": "code",
   "execution_count": 85,
   "id": "fd2af477-cbc9-497b-82db-5ca5594c17d9",
   "metadata": {},
   "outputs": [
    {
     "data": {
      "text/plain": [
       "{'x01': -4.982,\n",
       " 'x02': -5.666,\n",
       " 'x03': -6.986,\n",
       " 'x04': -8.183,\n",
       " 'x05': -5.822,\n",
       " 'x06': -7.617,\n",
       " 'x07': -8.307,\n",
       " 'x08': -5.064,\n",
       " 'x09': -3.087,\n",
       " 'x10': -4.184,\n",
       " 'x11': -5.436,\n",
       " 'x12': -7.359,\n",
       " 'x13': -6.251,\n",
       " 'x14': -7.516,\n",
       " 'x15': -8.689,\n",
       " 'x16': -5.18,\n",
       " 'x17': -17.407,\n",
       " 'x18': -6.927,\n",
       " 'x19': -7.467,\n",
       " 'x20': -19.7361,\n",
       " 'x21': -16.474,\n",
       " 'x22': -19.736,\n",
       " 'x23': -19.42,\n",
       " 'x24': -2.685,\n",
       " 'x25': -3.751,\n",
       " 'x26': -9.672,\n",
       " 'x27': -3.3,\n",
       " 'x28': -5.517,\n",
       " 'x29': -6.629,\n",
       " 'x30': -1.358,\n",
       " 'x31': -3.291,\n",
       " 'x32': -3.651,\n",
       " 'x33': -1.779,\n",
       " 'x34': -3.741,\n",
       " 'x35': -2.582,\n",
       " 'x36': -1.745,\n",
       " 'x37': -2.376,\n",
       " 'x38': -2.967,\n",
       " 'x39': -3.488,\n",
       " 'x40': -2.824,\n",
       " 'x41': -4.761,\n",
       " 'x42': -4.052,\n",
       " 'x43': -3.652,\n",
       " 'x44': -1.973,\n",
       " 'x45': -1.696,\n",
       " 'x46': -4.215,\n",
       " 'x47': -2.801,\n",
       " 'x48': -3.472,\n",
       " 'x49': -3.26,\n",
       " 'x50': -2.828,\n",
       " 'x51': -1.519,\n",
       " 'x52': -4.691,\n",
       " 'x53': -4.376,\n",
       " 'x54': -3.267,\n",
       " 'x55': -4.139,\n",
       " 'x56': -3.174,\n",
       " 'x57': -5.222,\n",
       " 'x58': -4.189,\n",
       " 'x59': -2.905,\n",
       " 'x60': -4.917,\n",
       " 'x61': -2.876,\n",
       " 'x62': -3.491,\n",
       " 'x63': -3.709,\n",
       " 'x64': -2.967,\n",
       " 'x65': -4.064,\n",
       " 'x66': -3.93}"
      ]
     },
     "execution_count": 85,
     "metadata": {},
     "output_type": "execute_result"
    }
   ],
   "source": [
    "base = value_dict_maker(\"s66_ref_energies\")\n",
    "base"
   ]
  },
  {
   "cell_type": "code",
   "execution_count": 76,
   "id": "fe368b8f-bc49-44c7-b3ac-382ff4856c13",
   "metadata": {},
   "outputs": [
    {
     "data": {
      "text/plain": [
       "'x01 -4.982\\nx02 -5.666\\nx03 -6.986\\nx04 -8.183\\nx05 -5.822\\nx06 -7.617\\nx07 -8.307\\nx08 -5.064\\nx09 -3.087\\nx10 -4.184\\nx11 -5.436\\nx12 -7.359\\nx13 -6.251\\nx14 -7.516\\nx15 -8.689\\nx16 -5.18\\nx17 -17.407\\nx18 -6.927\\nx19 -7.467\\nx20 -19.7361\\nx21 -16.474\\nx22 -19.736\\nx23 -19.42\\nx24 -2.685\\nx25 -3.751\\nx26 -9.672\\nx27 -3.3\\nx28 -5.517\\nx29 -6.629\\nx30 -1.358\\nx31 -3.291\\nx32 -3.651\\nx33 -1.779\\nx34 -3.741\\nx35 -2.582\\nx36 -1.745\\nx37 -2.376\\nx38 -2.967\\nx39 -3.488\\nx40 -2.824\\nx41 -4.761\\nx42 -4.052\\nx43 -3.652\\nx44 -1.973\\nx45 -1.696\\nx46 -4.215\\nx47 -2.801\\nx48 -3.472\\nx49 -3.26\\nx50 -2.828\\nx51 -1.519\\nx52 -4.691\\nx53 -4.376\\nx54 -3.267\\nx55 -4.139\\nx56 -3.174\\nx57 -5.222\\nx58 -4.189\\nx59 -2.905\\nx60 -4.917\\nx61 -2.876\\nx62 -3.491\\nx63 -3.709\\nx64 -2.967\\nx65 -4.064\\nx66 -3.93\\n'"
      ]
     },
     "execution_count": 76,
     "metadata": {},
     "output_type": "execute_result"
    }
   ],
   "source": [
    "with open(\"s66_ref_energies\", \"r\") as f:\n",
    "    d = f.read()\n",
    "d"
   ]
  },
  {
   "cell_type": "code",
   "execution_count": 4,
   "id": "5ea2f7ad-2f73-4e89-9825-6346293fe498",
   "metadata": {},
   "outputs": [
    {
     "data": {
      "text/plain": [
       "True"
      ]
     },
     "execution_count": 4,
     "metadata": {},
     "output_type": "execute_result"
    }
   ],
   "source": [
    "a = \"False\"\n",
    "bool(a)"
   ]
  },
  {
   "cell_type": "code",
   "execution_count": 3,
   "id": "d200fc71-368b-4e36-a02f-7b7f371872de",
   "metadata": {},
   "outputs": [],
   "source": [
    "if not bool(a):\n",
    "    print(\"a\")"
   ]
  },
  {
   "cell_type": "code",
   "execution_count": 5,
   "id": "9cac3708-2491-4456-8d46-c9e1bac971c1",
   "metadata": {},
   "outputs": [],
   "source": [
    "with open(\"b\", \"w\") as tt:\n",
    "    tt.write(\"hi\")"
   ]
  },
  {
   "cell_type": "code",
   "execution_count": null,
   "id": "3d75aa92-6e72-4ecb-8ed0-74c18007c794",
   "metadata": {},
   "outputs": [],
   "source": []
  }
 ],
 "metadata": {
  "kernelspec": {
   "display_name": "Python 3 (ipykernel)",
   "language": "python",
   "name": "python3"
  },
  "language_info": {
   "codemirror_mode": {
    "name": "ipython",
    "version": 3
   },
   "file_extension": ".py",
   "mimetype": "text/x-python",
   "name": "python",
   "nbconvert_exporter": "python",
   "pygments_lexer": "ipython3",
   "version": "3.12.8"
  }
 },
 "nbformat": 4,
 "nbformat_minor": 5
}
